{
 "cells": [
  {
   "cell_type": "markdown",
   "metadata": {},
   "source": [
    "We'll be using the Numpy library for this course. It is the most popular Python library for performing numerical computing."
   ]
  },
  {
   "cell_type": "markdown",
   "metadata": {},
   "source": [
    "The process of runnning a quantitative investing strategy can be broken down into the following steps:\n",
    "1. Collect data\n",
    "2. Develop a strategy hypothesis\n",
    "3. Backtest that strategy\n",
    "4. Implement your strategy"
   ]
  },
  {
   "cell_type": "markdown",
   "metadata": {},
   "source": [
    "This course will be differed from production algorithmic trading in 3 major ways\n",
    "1. We'll be using random data\n",
    "2. We will not be executing trades\n",
    "3. We will be saving recommended trades in excel files"
   ]
  }
 ],
 "metadata": {
  "kernelspec": {
   "display_name": "Python 3.10.8 64-bit",
   "language": "python",
   "name": "python3"
  },
  "language_info": {
   "name": "python",
   "version": "3.10.8"
  },
  "orig_nbformat": 4,
  "vscode": {
   "interpreter": {
    "hash": "8070ac3aec83c781758a5b5e9e27ae1bb30ea241e88cac7bb74845b22cdffb2c"
   }
  }
 },
 "nbformat": 4,
 "nbformat_minor": 2
}
