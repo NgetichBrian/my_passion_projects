{
 "cells": [
  {
   "cell_type": "code",
   "execution_count": 1,
   "metadata": {},
   "outputs": [
    {
     "name": "stdout",
     "output_type": "stream",
     "text": [
      "Yesterday's date: 2024-11-15\n"
     ]
    }
   ],
   "source": [
    "from datetime import datetime, date, timedelta\n",
    "\n",
    "# Get today's date\n",
    "today = datetime.now()\n",
    "\n",
    "# Number of days from today\n",
    "n_3 = 3\n",
    "n_2 = 2\n",
    "n_1 = 1\n",
    "\n",
    "# Calculate yesterday's date\n",
    "yesterday = today - timedelta(days = n_1)\n",
    "\n",
    "# Account for weekends\n",
    "if yesterday.strftime(\"%A\") == \"Sunday\":\n",
    "  yesterday = today - timedelta(days = n_3)\n",
    "  \n",
    "elif yesterday.strftime(\"%A\") == \"Saturday\":\n",
    "  yesterday = today - timedelta(days = n_2)\n",
    "\n",
    "else:\n",
    "  yesterday\n",
    "\n",
    "# Print yesterday's date\n",
    "print(\"Yesterday's date:\", yesterday.date())"
   ]
  },
  {
   "cell_type": "markdown",
   "metadata": {},
   "source": [
    "# Equal-Weight S&P 500 Index Fund\n",
    "\n",
    "## Introduction & Library Imports\n",
    "\n",
    "The S&P 500 is the world's most popular stock market index. The largest fund that is benchmarked to this index is the SPDR® S&P 500® ETF Trust. It has more than US$250 billion of assets under management.\n",
    "\n",
    "The goal of this section of the course is to create a Python script that will accept the value of your portfolio and tell you how many shares of each S&P 500 constituent you should purchase to get an equal-weight version of the index fund.\n",
    "\n",
    "## Library Imports\n",
    "\n",
    "The first thing we need to do is import the open-source software libraries that we'll be using in this tutorial."
   ]
  },
  {
   "cell_type": "code",
   "execution_count": 2,
   "metadata": {},
   "outputs": [
    {
     "name": "stdout",
     "output_type": "stream",
     "text": [
      "Requirement already satisfied: xlsxwriter in c:\\users\\brian gt\\.conda\\envs\\python_3_12\\lib\\site-packages (3.2.0)\n"
     ]
    }
   ],
   "source": [
    "!pip install xlsxwriter"
   ]
  },
  {
   "cell_type": "code",
   "execution_count": 3,
   "metadata": {},
   "outputs": [],
   "source": [
    "import numpy as np\n",
    "import pandas as pd\n",
    "import requests\n",
    "import xlsxwriter\n",
    "import math\n",
    "import time"
   ]
  },
  {
   "cell_type": "markdown",
   "metadata": {},
   "source": [
    "## Importing Our List of Stocks\n",
    "\n",
    "The next thing we need to do is import the constituents of the S&P 500.\n",
    "\n",
    "These constituents change over time, so in an ideal world you would connect directly to the index provider (Standard & Poor's) and pull their real-time constituents on a regular basis.\n",
    "\n",
    "Paying for access to the index provider's API is outside of the scope of this course. \n",
    "\n",
    "There's a static version of the S&P 500 constituents available here. [Click this link to download them now](https://drive.google.com/file/d/1ZJSpbY69DVckVZlO9cC6KkgfSufybcHN/view?usp=sharing). Move this file into the `starter-files` folder so it can be accessed by other files in that directory.\n",
    "\n",
    "Now it's time to import these stocks to our Jupyter Notebook file."
   ]
  },
  {
   "cell_type": "code",
   "execution_count": 4,
   "metadata": {},
   "outputs": [
    {
     "data": {
      "text/html": [
       "<div>\n",
       "<style scoped>\n",
       "    .dataframe tbody tr th:only-of-type {\n",
       "        vertical-align: middle;\n",
       "    }\n",
       "\n",
       "    .dataframe tbody tr th {\n",
       "        vertical-align: top;\n",
       "    }\n",
       "\n",
       "    .dataframe thead th {\n",
       "        text-align: right;\n",
       "    }\n",
       "</style>\n",
       "<table border=\"1\" class=\"dataframe\">\n",
       "  <thead>\n",
       "    <tr style=\"text-align: right;\">\n",
       "      <th></th>\n",
       "      <th>Ticker</th>\n",
       "    </tr>\n",
       "  </thead>\n",
       "  <tbody>\n",
       "    <tr>\n",
       "      <th>0</th>\n",
       "      <td>A</td>\n",
       "    </tr>\n",
       "    <tr>\n",
       "      <th>1</th>\n",
       "      <td>AAL</td>\n",
       "    </tr>\n",
       "    <tr>\n",
       "      <th>2</th>\n",
       "      <td>AAP</td>\n",
       "    </tr>\n",
       "    <tr>\n",
       "      <th>3</th>\n",
       "      <td>AAPL</td>\n",
       "    </tr>\n",
       "    <tr>\n",
       "      <th>4</th>\n",
       "      <td>ABBV</td>\n",
       "    </tr>\n",
       "    <tr>\n",
       "      <th>...</th>\n",
       "      <td>...</td>\n",
       "    </tr>\n",
       "    <tr>\n",
       "      <th>500</th>\n",
       "      <td>YUM</td>\n",
       "    </tr>\n",
       "    <tr>\n",
       "      <th>501</th>\n",
       "      <td>ZBH</td>\n",
       "    </tr>\n",
       "    <tr>\n",
       "      <th>502</th>\n",
       "      <td>ZBRA</td>\n",
       "    </tr>\n",
       "    <tr>\n",
       "      <th>503</th>\n",
       "      <td>ZION</td>\n",
       "    </tr>\n",
       "    <tr>\n",
       "      <th>504</th>\n",
       "      <td>ZTS</td>\n",
       "    </tr>\n",
       "  </tbody>\n",
       "</table>\n",
       "<p>505 rows × 1 columns</p>\n",
       "</div>"
      ],
      "text/plain": [
       "    Ticker\n",
       "0        A\n",
       "1      AAL\n",
       "2      AAP\n",
       "3     AAPL\n",
       "4     ABBV\n",
       "..     ...\n",
       "500    YUM\n",
       "501    ZBH\n",
       "502   ZBRA\n",
       "503   ZION\n",
       "504    ZTS\n",
       "\n",
       "[505 rows x 1 columns]"
      ]
     },
     "execution_count": 4,
     "metadata": {},
     "output_type": "execute_result"
    }
   ],
   "source": [
    "stocks = pd.read_csv('sp_500_stocks.csv')\n",
    "stocks"
   ]
  },
  {
   "cell_type": "markdown",
   "metadata": {},
   "source": [
    "## Acquiring an API Token\n",
    "\n",
    "Now it's time to import our IEX Cloud API token. This is the data provider that we will be using throughout this course.\n",
    "\n",
    "API tokens (and other sensitive information) should be stored in a `secrets.py` file that doesn't get pushed to your local Git repository. We'll be using a sandbox API token in this course, which means that the data we'll use is randomly-generated and (more importantly) has no cost associated with it.\n",
    "\n",
    "[Click here](http://nickmccullum.com/algorithmic-trading-python/secrets.py) to download your `secrets.py` file. Move the file into the same directory as this Jupyter Notebook before proceeding."
   ]
  },
  {
   "cell_type": "code",
   "execution_count": 5,
   "metadata": {},
   "outputs": [],
   "source": [
    "from secrets_py import MARKETSTACK_API_TOKEN\n",
    "from secrets_py import TIINGO_API_TOKEN"
   ]
  },
  {
   "cell_type": "markdown",
   "metadata": {},
   "source": [
    "## Making Our First API Call\n",
    "\n",
    "Now it's time to structure our API calls to IEX cloud. \n",
    "\n",
    "We need the following information from the API:\n",
    "\n",
    "* Market capitalization for each stock\n",
    "* Price of each stock\n",
    "\n"
   ]
  },
  {
   "cell_type": "markdown",
   "metadata": {},
   "source": [
    "## Parsing Our API Call\n",
    "\n",
    "The API call that we executed in the last code block contains all of the information required to build our equal-weight S&P 500 strategy. \n",
    "\n",
    "With that said, the data isn't in a proper format yet. We need to parse it first."
   ]
  },
  {
   "cell_type": "markdown",
   "metadata": {},
   "source": [
    "## Adding Our Stocks Data to a Pandas DataFrame\n",
    "\n",
    "The next thing we need to do is add our stock's price and market capitalization to a pandas DataFrame. Think of a DataFrame like the Python version of a spreadsheet. It stores tabular data."
   ]
  },
  {
   "cell_type": "code",
   "execution_count": 6,
   "metadata": {},
   "outputs": [
    {
     "name": "stdout",
     "output_type": "stream",
     "text": [
      "Requirement already satisfied: bs4 in c:\\users\\brian gt\\.conda\\envs\\python_3_12\\lib\\site-packages (0.0.2)\n",
      "Requirement already satisfied: beautifulsoup4 in c:\\users\\brian gt\\.conda\\envs\\python_3_12\\lib\\site-packages (from bs4) (4.12.3)\n",
      "Requirement already satisfied: soupsieve>1.2 in c:\\users\\brian gt\\.conda\\envs\\python_3_12\\lib\\site-packages (from beautifulsoup4->bs4) (2.6)\n"
     ]
    }
   ],
   "source": [
    "!pip install bs4"
   ]
  },
  {
   "cell_type": "code",
   "execution_count": 7,
   "metadata": {},
   "outputs": [
    {
     "name": "stdout",
     "output_type": "stream",
     "text": [
      "Extracted Ticker Symbols:\n",
      "['AMZN', 'AXP', 'AMGN', 'AAPL', 'BA', 'CAT', 'CSCO', 'CVX', 'GS', 'HD', 'HON', 'IBM', 'JNJ', 'KO', 'JPM', 'MCD', 'MMM', 'MRK', 'MSFT', 'NKE', 'PG', 'SHW', 'TRV', 'UNH', 'CRM', 'NVDA', 'VZ', 'V', 'WMT', 'DIS']\n"
     ]
    },
    {
     "name": "stderr",
     "output_type": "stream",
     "text": [
      "C:\\Users\\Brian GT\\AppData\\Local\\Temp\\ipykernel_4732\\2415861260.py:18: DeprecationWarning: The 'text' argument to find()-type methods is deprecated. Use 'string' instead.\n",
      "  script_tag = soup.find(\"script\", text=re.compile(pattern))\n"
     ]
    }
   ],
   "source": [
    "import requests\n",
    "from bs4 import BeautifulSoup\n",
    "import re\n",
    "import json\n",
    "\n",
    "## Select stocks from the Dow 30\n",
    "\n",
    "# Step 1: Get the webpage content\n",
    "url = 'https://www.cnbc.com/dow-30/'  # Example CNBC page\n",
    "response = requests.get(url)\n",
    "webpage_content = response.text\n",
    "\n",
    "# Step 2: Parse HTML using BeautifulSoup\n",
    "soup = BeautifulSoup(webpage_content, 'html.parser')\n",
    "\n",
    "# Step 3: Use regex to find the JavaScript object\n",
    "pattern = r'window\\.__s_data\\s*=\\s*(\\{.*?\\});'\n",
    "script_tag = soup.find(\"script\", text=re.compile(pattern))\n",
    "\n",
    "if script_tag:\n",
    "    # Step 4: Extract the JavaScript object\n",
    "    match = re.search(pattern, script_tag.string)\n",
    "    if match:\n",
    "        js_object = match.group(1)\n",
    "        \n",
    "        # Step 5: Convert JavaScript object to Python dictionary\n",
    "        js_object = js_object.replace(\"null\", \"None\").replace(\"false\", \"False\").replace(\"true\", \"True\")\n",
    "        data = eval(js_object)\n",
    "        \n",
    "        # Step 6: Navigate to the ticker symbols within the data structure\n",
    "        ticker_symbols = []\n",
    "        try:\n",
    "            # Digging into the 'marketsSectionTable' part to find ticker symbols\n",
    "            market_table = data['page']['page']['layout']\n",
    "            for layout in market_table:\n",
    "                for column in layout['columns']:\n",
    "                    for module in column['modules']:\n",
    "                        if module['name'] == 'marketsSectionTable':\n",
    "                            for chart in module['data']['relatedMarketCharts']:\n",
    "                                for issue in chart['chartIssueDetail']:\n",
    "                                    ticker_symbols.append(issue['symbol'])\n",
    "        \n",
    "            # Step 7: Print the extracted ticker symbols\n",
    "            print(\"Extracted Ticker Symbols:\")\n",
    "            print(ticker_symbols)\n",
    "        except KeyError as e:\n",
    "            print(f\"Key not found: {e}\")\n",
    "    else:\n",
    "        print(\"JavaScript object not found in script.\")\n",
    "else:\n",
    "    print(\"Script tag not found.\")"
   ]
  },
  {
   "cell_type": "code",
   "execution_count": 8,
   "metadata": {},
   "outputs": [
    {
     "data": {
      "text/plain": [
       "[{'Ticker': 'AAPL', 'is_dow_30': 1},\n",
       " {'Ticker': 'AMGN', 'is_dow_30': 1},\n",
       " {'Ticker': 'AMZN', 'is_dow_30': 1},\n",
       " {'Ticker': 'AXP', 'is_dow_30': 1},\n",
       " {'Ticker': 'BA', 'is_dow_30': 1},\n",
       " {'Ticker': 'CAT', 'is_dow_30': 1},\n",
       " {'Ticker': 'CRM', 'is_dow_30': 1},\n",
       " {'Ticker': 'CSCO', 'is_dow_30': 1},\n",
       " {'Ticker': 'CVX', 'is_dow_30': 1},\n",
       " {'Ticker': 'DIS', 'is_dow_30': 1},\n",
       " {'Ticker': 'GS', 'is_dow_30': 1},\n",
       " {'Ticker': 'HD', 'is_dow_30': 1},\n",
       " {'Ticker': 'HON', 'is_dow_30': 1},\n",
       " {'Ticker': 'IBM', 'is_dow_30': 1},\n",
       " {'Ticker': 'JNJ', 'is_dow_30': 1},\n",
       " {'Ticker': 'JPM', 'is_dow_30': 1},\n",
       " {'Ticker': 'KO', 'is_dow_30': 1},\n",
       " {'Ticker': 'MCD', 'is_dow_30': 1},\n",
       " {'Ticker': 'MMM', 'is_dow_30': 1},\n",
       " {'Ticker': 'MRK', 'is_dow_30': 1},\n",
       " {'Ticker': 'MSFT', 'is_dow_30': 1},\n",
       " {'Ticker': 'NKE', 'is_dow_30': 1},\n",
       " {'Ticker': 'NVDA', 'is_dow_30': 1},\n",
       " {'Ticker': 'PG', 'is_dow_30': 1},\n",
       " {'Ticker': 'SHW', 'is_dow_30': 1},\n",
       " {'Ticker': 'TRV', 'is_dow_30': 1},\n",
       " {'Ticker': 'UNH', 'is_dow_30': 1},\n",
       " {'Ticker': 'V', 'is_dow_30': 1},\n",
       " {'Ticker': 'VZ', 'is_dow_30': 1},\n",
       " {'Ticker': 'WMT', 'is_dow_30': 1}]"
      ]
     },
     "execution_count": 8,
     "metadata": {},
     "output_type": "execute_result"
    }
   ],
   "source": [
    "# Adding a column based on a condition\n",
    "stocks['is_dow_30'] = stocks['Ticker'].apply(lambda x: 1 if x in ticker_symbols else 0 )\n",
    "\n",
    "# Selecting only the stocks in Dow 30 because only the info from the MarketStacks\n",
    "select_stocks = stocks[stocks[\"is_dow_30\"] == 1]\n",
    "\n",
    "# Split the resulting table into sub-lists\n",
    "# def chunks(lst, n):\n",
    "#   \"\"\"Yield successive n-sized chunks from lst.\"\"\"\n",
    "#   for i in range(0, len(lst), n):\n",
    "#     yield lst[i:1+n]\n",
    "\n",
    "select_stocks_list = select_stocks.to_dict(\"records\")\n",
    "select_stocks_list"
   ]
  },
  {
   "cell_type": "markdown",
   "metadata": {},
   "source": [
    "## Using Batch API Calls to Improve Performance\n",
    "\n",
    "Batch API calls are one of the easiest ways to improve the performance of your code.\n",
    "\n",
    "This is because HTTP requests are typically one of the slowest components of a script.\n",
    "\n",
    "Also, API providers will often give you discounted rates for using batch API calls since they are easier for the API provider to respond to.\n",
    "\n",
    "IEX Cloud limits their batch API calls to 100 tickers per request. Still, this reduces the number of API calls we'll make in this section from 500 to 5 - huge improvement! In this section, we'll split our list of stocks into groups of 100 and then make a batch API call for each group."
   ]
  },
  {
   "cell_type": "code",
   "execution_count": 9,
   "metadata": {},
   "outputs": [
    {
     "name": "stdout",
     "output_type": "stream",
     "text": [
      "Empty DataFrame\n",
      "Columns: [Ticker, Stock Price, Market Capitalization, Number of Shares to Buy]\n",
      "Index: []\n"
     ]
    }
   ],
   "source": [
    "# Define your columns\n",
    "my_columns = [\"Ticker\", \"Stock Price\", \"Market Capitalization\", \"Number of Shares to Buy\"]\n",
    "\n",
    "# Create an empty DataFrame with specified columns\n",
    "final_dataframe = pd.DataFrame(columns=my_columns)\n",
    "\n",
    "other_column = \"N/A\"\n",
    "\n",
    "print(final_dataframe)"
   ]
  },
  {
   "cell_type": "markdown",
   "metadata": {},
   "source": [
    "### 1. Get"
   ]
  },
  {
   "cell_type": "code",
   "execution_count": 10,
   "metadata": {},
   "outputs": [
    {
     "name": "stdout",
     "output_type": "stream",
     "text": [
      "No matching ticker found for AAPL\n",
      "No matching ticker found for AMGN\n",
      "No matching ticker found for AMZN\n",
      "No matching ticker found for AXP\n",
      "No matching ticker found for BA\n",
      "No matching ticker found for CAT\n",
      "No matching ticker found for CRM\n",
      "No matching ticker found for CSCO\n",
      "No matching ticker found for CVX\n",
      "No matching ticker found for DIS\n",
      "No matching ticker found for GS\n",
      "No matching ticker found for HD\n",
      "No matching ticker found for HON\n",
      "No matching ticker found for IBM\n",
      "No matching ticker found for JNJ\n",
      "No matching ticker found for JPM\n",
      "No matching ticker found for KO\n",
      "No matching ticker found for MCD\n",
      "No matching ticker found for MMM\n",
      "No matching ticker found for MRK\n",
      "No matching ticker found for MSFT\n",
      "No matching ticker found for NKE\n",
      "No matching ticker found for NVDA\n",
      "No matching ticker found for PG\n",
      "No matching ticker found for SHW\n",
      "No matching ticker found for TRV\n",
      "No matching ticker found for UNH\n",
      "No matching ticker found for V\n",
      "No matching ticker found for VZ\n",
      "No matching ticker found for WMT\n"
     ]
    },
    {
     "data": {
      "text/html": [
       "<div>\n",
       "<style scoped>\n",
       "    .dataframe tbody tr th:only-of-type {\n",
       "        vertical-align: middle;\n",
       "    }\n",
       "\n",
       "    .dataframe tbody tr th {\n",
       "        vertical-align: top;\n",
       "    }\n",
       "\n",
       "    .dataframe thead th {\n",
       "        text-align: right;\n",
       "    }\n",
       "</style>\n",
       "<table border=\"1\" class=\"dataframe\">\n",
       "  <thead>\n",
       "    <tr style=\"text-align: right;\">\n",
       "      <th></th>\n",
       "      <th>Ticker</th>\n",
       "      <th>Stock Price</th>\n",
       "      <th>Market Capitalization</th>\n",
       "      <th>Number of Shares to Buy</th>\n",
       "    </tr>\n",
       "  </thead>\n",
       "  <tbody>\n",
       "  </tbody>\n",
       "</table>\n",
       "</div>"
      ],
      "text/plain": [
       "Empty DataFrame\n",
       "Columns: [Ticker, Stock Price, Market Capitalization, Number of Shares to Buy]\n",
       "Index: []"
      ]
     },
     "execution_count": 10,
     "metadata": {},
     "output_type": "execute_result"
    }
   ],
   "source": [
    "headers = {\n",
    "    'Content-Type': 'application/json'\n",
    "}\n",
    "\n",
    "final_dataframe = pd.DataFrame(columns=my_columns)\n",
    "\n",
    "for stock in select_stocks[\"Ticker\"][:30]:\n",
    "  # To get the closing stock price as of the previous day\n",
    "  price_url = f\"https://api.tiingo.com/tiingo/daily/{stock}/prices?token={TIINGO_API_TOKEN}&startDate={yesterday}\"\n",
    "  response_1 = requests.get(price_url, headers=headers)\n",
    "  if response_1.status_code == 200:\n",
    "    price_list = response_1.json()\n",
    "    price_dict = price_list[0]\n",
    "    latest_price = price_dict['close']\n",
    "    new_data = pd.DataFrame([price_dict]) # Create a DataFrame from the API data. Here, we are assuming that tk_data is a dictionary of key-value pairs\n",
    "    row_index = final_dataframe[final_dataframe['Ticker'] == stock].index # Find the index of the row in select_stocks where 'Ticker' matches\n",
    "    if not row_index.empty: # If a matching row is found, update the row with the new data\n",
    "      row_index = row_index[0]  # Get the first match index\n",
    "      final_dataframe.update(price_dict, overwrite=True)\n",
    "    else:\n",
    "      print(f\"No matching ticker found for {stock}\")\n",
    "  elif response_1.status_code == 429:\n",
    "    # retry_after = int(response_1.headers.get('Retry-After', 60))  # Default to 60 seconds if not specified\n",
    "    print(f\"Rate limit hit for {stock}: {response_1.status_code}\")\n",
    "    # print(f\"Rate limit hit. Retrying after {retry_after} seconds...\")\n",
    "    # time.sleep(retry_after)  # Wait for the specified time before retrying\n",
    "  else:\n",
    "    print(f\"Failed to retrieve data for {stock}: {response_1.status_code}\")\n",
    "\n",
    "final_dataframe\n"
   ]
  },
  {
   "cell_type": "code",
   "execution_count": 11,
   "metadata": {},
   "outputs": [
    {
     "name": "stdout",
     "output_type": "stream",
     "text": [
      "No matching ticker found for AAPL\n",
      "No matching ticker found for AMGN\n",
      "Failed to retrieve data for AMZN: 400\n",
      "No matching ticker found for AXP\n",
      "No matching ticker found for BA\n",
      "No matching ticker found for CAT\n",
      "No matching ticker found for CRM\n",
      "No matching ticker found for CSCO\n",
      "No matching ticker found for CVX\n",
      "No matching ticker found for DIS\n",
      "No matching ticker found for GS\n",
      "No matching ticker found for HD\n",
      "No matching ticker found for HON\n",
      "No matching ticker found for IBM\n",
      "No matching ticker found for JNJ\n",
      "No matching ticker found for JPM\n",
      "No matching ticker found for KO\n",
      "No matching ticker found for MCD\n",
      "No matching ticker found for MMM\n",
      "No matching ticker found for MRK\n",
      "No matching ticker found for MSFT\n",
      "No matching ticker found for NKE\n",
      "Failed to retrieve data for NVDA: 400\n",
      "No matching ticker found for PG\n",
      "Failed to retrieve data for SHW: 400\n",
      "No matching ticker found for TRV\n",
      "No matching ticker found for UNH\n",
      "No matching ticker found for V\n",
      "No matching ticker found for VZ\n",
      "No matching ticker found for WMT\n"
     ]
    },
    {
     "data": {
      "text/html": [
       "<div>\n",
       "<style scoped>\n",
       "    .dataframe tbody tr th:only-of-type {\n",
       "        vertical-align: middle;\n",
       "    }\n",
       "\n",
       "    .dataframe tbody tr th {\n",
       "        vertical-align: top;\n",
       "    }\n",
       "\n",
       "    .dataframe thead th {\n",
       "        text-align: right;\n",
       "    }\n",
       "</style>\n",
       "<table border=\"1\" class=\"dataframe\">\n",
       "  <thead>\n",
       "    <tr style=\"text-align: right;\">\n",
       "      <th></th>\n",
       "      <th>Ticker</th>\n",
       "      <th>Stock Price</th>\n",
       "      <th>Market Capitalization</th>\n",
       "      <th>Number of Shares to Buy</th>\n",
       "    </tr>\n",
       "  </thead>\n",
       "  <tbody>\n",
       "  </tbody>\n",
       "</table>\n",
       "</div>"
      ],
      "text/plain": [
       "Empty DataFrame\n",
       "Columns: [Ticker, Stock Price, Market Capitalization, Number of Shares to Buy]\n",
       "Index: []"
      ]
     },
     "execution_count": 11,
     "metadata": {},
     "output_type": "execute_result"
    }
   ],
   "source": [
    "headers = {\n",
    "    'Content-Type': 'application/json'\n",
    "}\n",
    "\n",
    "final_dataframe = pd.DataFrame(columns=my_columns)\n",
    "\n",
    "for stock in select_stocks[\"Ticker\"][:30]:\n",
    "  # To get the market capitalization value as of the previous day\n",
    "  market_cap_url = f\"https://api.tiingo.com/tiingo/fundamentals/{stock}/daily?token={TIINGO_API_TOKEN}&startDate={yesterday}\"\n",
    "  response_2 = requests.get(market_cap_url, headers=headers)\n",
    "  if response_2.status_code == 200:\n",
    "    marcap_list = response_2.json()\n",
    "    marcap_dict = marcap_list[0]\n",
    "    market_cap = marcap_dict['marketCap']\n",
    "    new_data = pd.DataFrame([marcap_dict]) # Create a DataFrame from the API data. Here, we are assuming that tk_data is a dictionary of key-value pairs\n",
    "    row_index = final_dataframe[final_dataframe['Ticker'] == stock].index   # Find the index of the row in select_stocks where 'Ticker' matches\n",
    "    if not row_index.empty: # If a matching row is found, update the row with the new data\n",
    "      row_index = row_index[0]  # Get the first match index\n",
    "      final_dataframe.update(marcap_dict, overwrite=True)\n",
    "    else:\n",
    "      print(f\"No matching ticker found for {stock}\")\n",
    "  elif response_1.status_code == 429:\n",
    "    # retry_after = int(response_1.headers.get('Retry-After', 60))  # Default to 60 seconds if not specified\n",
    "    print(f\"Rate limit hit for {stock}: {response_2.status_code}\")\n",
    "    # print(f\"Rate limit hit. Retrying after {retry_after} seconds...\")\n",
    "    # time.sleep(retry_after)  # Wait for the specified time before retrying\n",
    "  else:\n",
    "    print(f\"Failed to retrieve data for {stock}: {response_2.status_code}\")\n",
    "  \n",
    "final_dataframe"
   ]
  },
  {
   "cell_type": "markdown",
   "metadata": {},
   "source": [
    "## Calculating the Number of Shares to Buy\n",
    "\n",
    "As you can see in the DataFrame above, we stil haven't calculated the number of shares of each stock to buy.\n",
    "\n",
    "We'll do that next."
   ]
  },
  {
   "cell_type": "code",
   "execution_count": 12,
   "metadata": {},
   "outputs": [],
   "source": [
    "# Assuming an equal investment\n",
    "\n",
    "for i in range(0, len(final_dataframe.index)):\n",
    "  print(i)\n",
    "  # final_dataframe[\"Number of Shares to Buy\"]\n",
    "  # position_size = val/len(final_dataframe.index)\n",
    "  # number_of_shares = position_size/500\n",
    "  # print(math.floor(number_of_shares))"
   ]
  },
  {
   "cell_type": "code",
   "execution_count": null,
   "metadata": {},
   "outputs": [],
   "source": []
  },
  {
   "cell_type": "markdown",
   "metadata": {},
   "source": [
    "## Formatting Our Excel Output\n",
    "\n",
    "We will be using the XlsxWriter library for Python to create nicely-formatted Excel files.\n",
    "\n",
    "XlsxWriter is an excellent package and offers tons of customization. However, the tradeoff for this is that the library can seem very complicated to new users. Accordingly, this section will be fairly long because I want to do a good job of explaining how XlsxWriter works.\n",
    "\n",
    "### Initializing our XlsxWriter Object"
   ]
  },
  {
   "cell_type": "code",
   "execution_count": null,
   "metadata": {},
   "outputs": [],
   "source": []
  },
  {
   "cell_type": "markdown",
   "metadata": {},
   "source": [
    "### Creating the Formats We'll Need For Our `.xlsx` File\n",
    "\n",
    "Formats include colors, fonts, and also symbols like `%` and `$`. We'll need four main formats for our Excel document:\n",
    "* String format for tickers\n",
    "* \\\\$XX.XX format for stock prices\n",
    "* \\\\$XX,XXX format for market capitalization\n",
    "* Integer format for the number of shares to purchase"
   ]
  },
  {
   "cell_type": "code",
   "execution_count": null,
   "metadata": {},
   "outputs": [],
   "source": []
  },
  {
   "cell_type": "markdown",
   "metadata": {},
   "source": [
    "### Applying the Formats to the Columns of Our `.xlsx` File\n",
    "\n",
    "We can use the `set_column` method applied to the `writer.sheets['Recommended Trades']` object to apply formats to specific columns of our spreadsheets.\n",
    "\n",
    "Here's an example:\n",
    "\n",
    "```python\n",
    "writer.sheets['Recommended Trades'].set_column('B:B', #This tells the method to apply the format to column B\n",
    "                     18, #This tells the method to apply a column width of 18 pixels\n",
    "                     string_template #This applies the format 'string_template' to the column\n",
    "                    )\n",
    "```"
   ]
  },
  {
   "cell_type": "code",
   "execution_count": null,
   "metadata": {},
   "outputs": [],
   "source": []
  },
  {
   "cell_type": "markdown",
   "metadata": {},
   "source": [
    "This code works, but it violates the software principle of \"Don't Repeat Yourself\". \n",
    "\n",
    "Let's simplify this by putting it in 2 loops:"
   ]
  },
  {
   "cell_type": "code",
   "execution_count": null,
   "metadata": {},
   "outputs": [],
   "source": []
  },
  {
   "cell_type": "markdown",
   "metadata": {},
   "source": [
    "## Saving Our Excel Output\n",
    "\n",
    "Saving our Excel file is very easy:"
   ]
  },
  {
   "cell_type": "code",
   "execution_count": null,
   "metadata": {},
   "outputs": [],
   "source": []
  }
 ],
 "metadata": {
  "kernelspec": {
   "display_name": "python_3_12",
   "language": "python",
   "name": "python3"
  },
  "language_info": {
   "codemirror_mode": {
    "name": "ipython",
    "version": 3
   },
   "file_extension": ".py",
   "mimetype": "text/x-python",
   "name": "python",
   "nbconvert_exporter": "python",
   "pygments_lexer": "ipython3",
   "version": "3.12.7"
  }
 },
 "nbformat": 4,
 "nbformat_minor": 4
}
