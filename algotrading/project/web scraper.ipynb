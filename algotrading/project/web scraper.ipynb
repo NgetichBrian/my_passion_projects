{
 "cells": [
  {
   "cell_type": "markdown",
   "metadata": {},
   "source": [
    "1. Get the Ticker Symbols listed on the CNBC website."
   ]
  },
  {
   "cell_type": "code",
   "execution_count": 7,
   "metadata": {},
   "outputs": [
    {
     "name": "stdout",
     "output_type": "stream",
     "text": [
      "Extracted Ticker Symbols:\n",
      "['AMZN', 'AXP', 'AMGN', 'AAPL', 'BA', 'CAT', 'CSCO', 'CVX', 'GS', 'HD', 'HON', 'IBM', 'INTC', 'JNJ', 'KO', 'JPM', 'MCD', 'MMM', 'MRK', 'MSFT', 'NKE', 'PG', 'TRV', 'UNH', 'CRM', 'VZ', 'V', 'WMT', 'DIS', 'DOW']\n"
     ]
    },
    {
     "name": "stderr",
     "output_type": "stream",
     "text": [
      "C:\\Users\\Brian Ngetich\\AppData\\Local\\Temp\\ipykernel_18476\\3376695251.py:16: DeprecationWarning: The 'text' argument to find()-type methods is deprecated. Use 'string' instead.\n",
      "  script_tag = soup.find(\"script\", text=re.compile(pattern))\n"
     ]
    }
   ],
   "source": [
    "import requests\n",
    "from bs4 import BeautifulSoup\n",
    "import re\n",
    "import json\n",
    "\n",
    "# Step 1: Get the webpage content\n",
    "url = 'https://www.cnbc.com/dow-30/'  # Example CNBC page\n",
    "response = requests.get(url)\n",
    "webpage_content = response.text\n",
    "\n",
    "# Step 2: Parse HTML using BeautifulSoup\n",
    "soup = BeautifulSoup(webpage_content, 'html.parser')\n",
    "\n",
    "# Step 3: Use regex to find the JavaScript object\n",
    "pattern = r'window\\.__s_data\\s*=\\s*(\\{.*?\\});'\n",
    "script_tag = soup.find(\"script\", text=re.compile(pattern))\n",
    "\n",
    "if script_tag:\n",
    "    # Step 4: Extract the JavaScript object\n",
    "    match = re.search(pattern, script_tag.string)\n",
    "    if match:\n",
    "        js_object = match.group(1)\n",
    "        \n",
    "        # Step 5: Convert JavaScript object to Python dictionary\n",
    "        js_object = js_object.replace(\"null\", \"None\").replace(\"false\", \"False\").replace(\"true\", \"True\")\n",
    "        data = eval(js_object)\n",
    "        \n",
    "        # Step 6: Navigate to the ticker symbols within the data structure\n",
    "        ticker_symbols = []\n",
    "        try:\n",
    "            # Digging into the 'marketsSectionTable' part to find ticker symbols\n",
    "            market_table = data['page']['page']['layout']\n",
    "            for layout in market_table:\n",
    "                for column in layout['columns']:\n",
    "                    for module in column['modules']:\n",
    "                        if module['name'] == 'marketsSectionTable':\n",
    "                            for chart in module['data']['relatedMarketCharts']:\n",
    "                                for issue in chart['chartIssueDetail']:\n",
    "                                    ticker_symbols.append(issue['symbol'])\n",
    "        \n",
    "            # Step 7: Print the extracted ticker symbols\n",
    "            print(\"Extracted Ticker Symbols:\")\n",
    "            print(ticker_symbols)\n",
    "        except KeyError as e:\n",
    "            print(f\"Key not found: {e}\")\n",
    "    else:\n",
    "        print(\"JavaScript object not found in script.\")\n",
    "else:\n",
    "    print(\"Script tag not found.\")"
   ]
  }
 ],
 "metadata": {
  "kernelspec": {
   "display_name": "Python 3",
   "language": "python",
   "name": "python3"
  },
  "language_info": {
   "codemirror_mode": {
    "name": "ipython",
    "version": 3
   },
   "file_extension": ".py",
   "mimetype": "text/x-python",
   "name": "python",
   "nbconvert_exporter": "python",
   "pygments_lexer": "ipython3",
   "version": "3.11.0"
  }
 },
 "nbformat": 4,
 "nbformat_minor": 2
}
