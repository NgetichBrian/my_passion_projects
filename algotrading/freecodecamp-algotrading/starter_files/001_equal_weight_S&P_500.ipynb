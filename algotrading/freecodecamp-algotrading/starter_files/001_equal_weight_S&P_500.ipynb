{
 "cells": [
  {
   "cell_type": "markdown",
   "metadata": {},
   "source": [
    "# Equal-Weight S&P 500 Index Fund\n",
    "\n",
    "## Introduction & Library Imports\n",
    "\n",
    "The S&P 500 is the world's most popular stock market index. The largest fund that is benchmarked to this index is the SPDR® S&P 500® ETF Trust. It has more than US$250 billion of assets under management.\n",
    "\n",
    "The goal of this section of the course is to create a Python script that will accept the value of your portfolio and tell you how many shares of each S&P 500 constituent you should purchase to get an equal-weight version of the index fund.\n",
    "\n",
    "## Library Imports\n",
    "\n",
    "The first thing we need to do is import the open-source software libraries that we'll be using in this tutorial."
   ]
  },
  {
   "cell_type": "code",
   "execution_count": 1,
   "metadata": {},
   "outputs": [],
   "source": [
    "import numpy as np\n",
    "import pandas as pd\n",
    "import requests\n",
    "import xlsxwriter\n",
    "import math"
   ]
  },
  {
   "cell_type": "markdown",
   "metadata": {},
   "source": [
    "## Importing Our List of Stocks\n",
    "\n",
    "The next thing we need to do is import the constituents of the S&P 500.\n",
    "\n",
    "These constituents change over time, so in an ideal world you would connect directly to the index provider (Standard & Poor's) and pull their real-time constituents on a regular basis.\n",
    "\n",
    "Paying for access to the index provider's API is outside of the scope of this course. \n",
    "\n",
    "There's a static version of the S&P 500 constituents available here. [Click this link to download them now](https://drive.google.com/file/d/1ZJSpbY69DVckVZlO9cC6KkgfSufybcHN/view?usp=sharing). Move this file into the `starter-files` folder so it can be accessed by other files in that directory.\n",
    "\n",
    "Now it's time to import these stocks to our Jupyter Notebook file."
   ]
  },
  {
   "cell_type": "code",
   "execution_count": 13,
   "metadata": {},
   "outputs": [
    {
     "data": {
      "text/html": [
       "<div>\n",
       "<style scoped>\n",
       "    .dataframe tbody tr th:only-of-type {\n",
       "        vertical-align: middle;\n",
       "    }\n",
       "\n",
       "    .dataframe tbody tr th {\n",
       "        vertical-align: top;\n",
       "    }\n",
       "\n",
       "    .dataframe thead th {\n",
       "        text-align: right;\n",
       "    }\n",
       "</style>\n",
       "<table border=\"1\" class=\"dataframe\">\n",
       "  <thead>\n",
       "    <tr style=\"text-align: right;\">\n",
       "      <th></th>\n",
       "      <th>Ticker</th>\n",
       "    </tr>\n",
       "  </thead>\n",
       "  <tbody>\n",
       "    <tr>\n",
       "      <th>0</th>\n",
       "      <td>A</td>\n",
       "    </tr>\n",
       "    <tr>\n",
       "      <th>1</th>\n",
       "      <td>AAL</td>\n",
       "    </tr>\n",
       "    <tr>\n",
       "      <th>2</th>\n",
       "      <td>AAP</td>\n",
       "    </tr>\n",
       "    <tr>\n",
       "      <th>3</th>\n",
       "      <td>AAPL</td>\n",
       "    </tr>\n",
       "    <tr>\n",
       "      <th>4</th>\n",
       "      <td>ABBV</td>\n",
       "    </tr>\n",
       "    <tr>\n",
       "      <th>...</th>\n",
       "      <td>...</td>\n",
       "    </tr>\n",
       "    <tr>\n",
       "      <th>500</th>\n",
       "      <td>YUM</td>\n",
       "    </tr>\n",
       "    <tr>\n",
       "      <th>501</th>\n",
       "      <td>ZBH</td>\n",
       "    </tr>\n",
       "    <tr>\n",
       "      <th>502</th>\n",
       "      <td>ZBRA</td>\n",
       "    </tr>\n",
       "    <tr>\n",
       "      <th>503</th>\n",
       "      <td>ZION</td>\n",
       "    </tr>\n",
       "    <tr>\n",
       "      <th>504</th>\n",
       "      <td>ZTS</td>\n",
       "    </tr>\n",
       "  </tbody>\n",
       "</table>\n",
       "<p>505 rows × 1 columns</p>\n",
       "</div>"
      ],
      "text/plain": [
       "    Ticker\n",
       "0        A\n",
       "1      AAL\n",
       "2      AAP\n",
       "3     AAPL\n",
       "4     ABBV\n",
       "..     ...\n",
       "500    YUM\n",
       "501    ZBH\n",
       "502   ZBRA\n",
       "503   ZION\n",
       "504    ZTS\n",
       "\n",
       "[505 rows x 1 columns]"
      ]
     },
     "execution_count": 13,
     "metadata": {},
     "output_type": "execute_result"
    }
   ],
   "source": [
    "stocks = pd.read_csv('sp_500_stocks.csv')\n",
    "stocks"
   ]
  },
  {
   "cell_type": "markdown",
   "metadata": {},
   "source": [
    "## 1. Select stocks from the Dow 30"
   ]
  },
  {
   "cell_type": "code",
   "execution_count": 14,
   "metadata": {},
   "outputs": [
    {
     "name": "stdout",
     "output_type": "stream",
     "text": [
      "Extracted Ticker Symbols:\n",
      "['AMZN', 'AXP', 'AMGN', 'AAPL', 'BA', 'CAT', 'CSCO', 'CVX', 'GS', 'HD', 'HON', 'IBM', 'INTC', 'JNJ', 'KO', 'JPM', 'MCD', 'MMM', 'MRK', 'MSFT', 'NKE', 'PG', 'TRV', 'UNH', 'CRM', 'VZ', 'V', 'WMT', 'DIS', 'DOW']\n"
     ]
    },
    {
     "name": "stderr",
     "output_type": "stream",
     "text": [
      "C:\\Users\\Brian Ngetich\\AppData\\Local\\Temp\\ipykernel_4812\\3376695251.py:16: DeprecationWarning: The 'text' argument to find()-type methods is deprecated. Use 'string' instead.\n",
      "  script_tag = soup.find(\"script\", text=re.compile(pattern))\n"
     ]
    }
   ],
   "source": [
    "import requests\n",
    "from bs4 import BeautifulSoup\n",
    "import re\n",
    "import json\n",
    "\n",
    "# Step 1: Get the webpage content\n",
    "url = 'https://www.cnbc.com/dow-30/'  # Example CNBC page\n",
    "response = requests.get(url)\n",
    "webpage_content = response.text\n",
    "\n",
    "# Step 2: Parse HTML using BeautifulSoup\n",
    "soup = BeautifulSoup(webpage_content, 'html.parser')\n",
    "\n",
    "# Step 3: Use regex to find the JavaScript object\n",
    "pattern = r'window\\.__s_data\\s*=\\s*(\\{.*?\\});'\n",
    "script_tag = soup.find(\"script\", text=re.compile(pattern))\n",
    "\n",
    "if script_tag:\n",
    "    # Step 4: Extract the JavaScript object\n",
    "    match = re.search(pattern, script_tag.string)\n",
    "    if match:\n",
    "        js_object = match.group(1)\n",
    "        \n",
    "        # Step 5: Convert JavaScript object to Python dictionary\n",
    "        js_object = js_object.replace(\"null\", \"None\").replace(\"false\", \"False\").replace(\"true\", \"True\")\n",
    "        data = eval(js_object)\n",
    "        \n",
    "        # Step 6: Navigate to the ticker symbols within the data structure\n",
    "        ticker_symbols = []\n",
    "        try:\n",
    "            # Digging into the 'marketsSectionTable' part to find ticker symbols\n",
    "            market_table = data['page']['page']['layout']\n",
    "            for layout in market_table:\n",
    "                for column in layout['columns']:\n",
    "                    for module in column['modules']:\n",
    "                        if module['name'] == 'marketsSectionTable':\n",
    "                            for chart in module['data']['relatedMarketCharts']:\n",
    "                                for issue in chart['chartIssueDetail']:\n",
    "                                    ticker_symbols.append(issue['symbol'])\n",
    "        \n",
    "            # Step 7: Print the extracted ticker symbols\n",
    "            print(\"Extracted Ticker Symbols:\")\n",
    "            print(ticker_symbols)\n",
    "        except KeyError as e:\n",
    "            print(f\"Key not found: {e}\")\n",
    "    else:\n",
    "        print(\"JavaScript object not found in script.\")\n",
    "else:\n",
    "    print(\"Script tag not found.\")"
   ]
  },
  {
   "cell_type": "code",
   "execution_count": 20,
   "metadata": {},
   "outputs": [
    {
     "name": "stdout",
     "output_type": "stream",
     "text": [
      "    Ticker  is_dow_30\n",
      "3     AAPL          1\n",
      "33    AMGN          1\n",
      "36    AMZN          1\n",
      "53     AXP          1\n",
      "55      BA          1\n",
      "79     CAT          1\n",
      "114    CRM          1\n",
      "115   CSCO          1\n",
      "123    CVX          1\n",
      "134    DIS          1\n",
      "141    DOW          1\n",
      "210     GS          1\n",
      "217     HD          1\n",
      "224    HON          1\n",
      "234    IBM          1\n",
      "242   INTC          1\n",
      "258    JNJ          1\n",
      "260    JPM          1\n",
      "270     KO          1\n",
      "298    MCD          1\n",
      "311    MMM          1\n",
      "316    MRK          1\n",
      "320   MSFT          1\n",
      "334    NKE          1\n",
      "367     PG          1\n",
      "443    TRV          1\n",
      "458    UNH          1\n",
      "464      V          1\n",
      "475     VZ          1\n",
      "487    WMT          1\n"
     ]
    }
   ],
   "source": [
    "# Adding a column based on a condition\n",
    "stocks['is_dow_30'] = stocks['Ticker'].apply(lambda x: 1 if x in ticker_symbols else 0 )\n",
    "\n",
    "# Selecting only the stocks in Dow 30 because only the info from the MarketStacks\n",
    "select_stocks = stocks[stocks[\"is_dow_30\"] == 1]\n",
    "\n",
    "print(select_stocks)"
   ]
  },
  {
   "cell_type": "markdown",
   "metadata": {},
   "source": [
    "## Acquiring an API Token\n",
    "\n",
    "Now it's time to import our IEX Cloud API token. This is the data provider that we will be using throughout this course.\n",
    "\n",
    "API tokens (and other sensitive information) should be stored in a `secrets.py` file that doesn't get pushed to your local Git repository. We'll be using a sandbox API token in this course, which means that the data we'll use is randomly-generated and (more importantly) has no cost associated with it.\n",
    "\n",
    "[Click here](http://nickmccullum.com/algorithmic-trading-python/secrets.py) to download your `secrets.py` file. Move the file into the same directory as this Jupyter Notebook before proceeding."
   ]
  },
  {
   "cell_type": "code",
   "execution_count": 3,
   "metadata": {},
   "outputs": [],
   "source": [
    "from secrets_py import MARKETSTACK_API_TOKEN\n",
    "from secrets_py import TIINGO_API_TOKEN"
   ]
  },
  {
   "cell_type": "markdown",
   "metadata": {},
   "source": [
    "## Making Our First API Call\n",
    "\n",
    "Now it's time to structure our API calls to IEX cloud. \n",
    "\n",
    "We need the following information from the API:\n",
    "\n",
    "* Market capitalization for each stock\n",
    "* Price of each stock\n",
    "\n"
   ]
  },
  {
   "cell_type": "code",
   "execution_count": 4,
   "metadata": {},
   "outputs": [
    {
     "name": "stdout",
     "output_type": "stream",
     "text": [
      "[{'date': '2024-10-10T00:00:00.000Z', 'close': 229.04, 'high': 229.5, 'low': 227.17, 'open': 227.78, 'volume': 28183544, 'adjClose': 229.04, 'adjHigh': 229.5, 'adjLow': 227.17, 'adjOpen': 227.78, 'adjVolume': 28183544, 'divCash': 0.0, 'splitFactor': 1.0}, {'date': '2024-10-11T00:00:00.000Z', 'close': 227.55, 'high': 229.41, 'low': 227.34, 'open': 229.3, 'volume': 31759188, 'adjClose': 227.55, 'adjHigh': 229.41, 'adjLow': 227.34, 'adjOpen': 229.3, 'adjVolume': 31759188, 'divCash': 0.0, 'splitFactor': 1.0}, {'date': '2024-10-14T00:00:00.000Z', 'close': 231.3, 'high': 231.73, 'low': 228.6, 'open': 228.7, 'volume': 39882085, 'adjClose': 231.3, 'adjHigh': 231.73, 'adjLow': 228.6, 'adjOpen': 228.7, 'adjVolume': 39882085, 'divCash': 0.0, 'splitFactor': 1.0}, {'date': '2024-10-15T00:00:00.000Z', 'close': 233.85, 'high': 237.49, 'low': 232.37, 'open': 233.61, 'volume': 64751367, 'adjClose': 233.85, 'adjHigh': 237.49, 'adjLow': 232.37, 'adjOpen': 233.61, 'adjVolume': 64751367, 'divCash': 0.0, 'splitFactor': 1.0}, {'date': '2024-10-16T00:00:00.000Z', 'close': 231.78, 'high': 232.12, 'low': 229.84, 'open': 231.6, 'volume': 34082240, 'adjClose': 231.78, 'adjHigh': 232.12, 'adjLow': 229.84, 'adjOpen': 231.6, 'adjVolume': 34082240, 'divCash': 0.0, 'splitFactor': 1.0}, {'date': '2024-10-17T00:00:00.000Z', 'close': 232.15, 'high': 233.85, 'low': 230.52, 'open': 233.43, 'volume': 32993810, 'adjClose': 232.15, 'adjHigh': 233.85, 'adjLow': 230.52, 'adjOpen': 233.43, 'adjVolume': 32993810, 'divCash': 0.0, 'splitFactor': 1.0}]\n"
     ]
    }
   ],
   "source": [
    "headers = {\n",
    "    'Content-Type': 'application/json'\n",
    "}\n",
    "\n",
    "symbol = \"AAPL\"\n",
    "market_cap_url = f\"https://api.tiingo.com/tiingo/fundamentals/{symbol}/daily?token={TIINGO_API_TOKEN}&startDate=2024-10-10\"\n",
    "price_url = f\"https://api.tiingo.com/tiingo/daily/{symbol}/prices?token={TIINGO_API_TOKEN}&startDate=2024-10-10\"\n",
    "data_1 = requests.get(market_cap_url, headers=headers)\n",
    "data_2 = requests.get(price_url, headers=headers)\n",
    "print(data_2.json())"
   ]
  },
  {
   "cell_type": "code",
   "execution_count": 5,
   "metadata": {},
   "outputs": [
    {
     "data": {
      "text/plain": [
       "[{'date': '2024-10-10T00:00:00.000Z',\n",
       "  'marketCap': 3512118141280.0,\n",
       "  'enterpriseVal': 3551621141280.0,\n",
       "  'peRatio': 34.4473904555,\n",
       "  'pbRatio': 52.6491296588,\n",
       "  'trailingPEG1Y': 3.3652450676},\n",
       " {'date': '2024-10-11T00:00:00.000Z',\n",
       "  'marketCap': 3489270359100.0,\n",
       "  'enterpriseVal': 3528773359100.0,\n",
       "  'peRatio': 34.2232959228,\n",
       "  'pbRatio': 52.3066252788,\n",
       "  'trailingPEG1Y': 3.3433527555},\n",
       " {'date': '2024-10-14T00:00:00.000Z',\n",
       "  'marketCap': 3546773166600.0,\n",
       "  'enterpriseVal': 3586276166600.0,\n",
       "  'peRatio': 34.78729223,\n",
       "  'pbRatio': 53.1686329466,\n",
       "  'trailingPEG1Y': 3.3984508563},\n",
       " {'date': '2024-10-15T00:00:00.000Z',\n",
       "  'marketCap': 3585875075700.0,\n",
       "  'enterpriseVal': 3625378075700.0,\n",
       "  'peRatio': 35.1708097189,\n",
       "  'pbRatio': 53.7547981606,\n",
       "  'trailingPEG1Y': 3.4359175648},\n",
       " {'date': '2024-10-16T00:00:00.000Z',\n",
       "  'marketCap': 3554133525960.0,\n",
       "  'enterpriseVal': 3593636525960.0,\n",
       "  'peRatio': 34.8594837573,\n",
       "  'pbRatio': 53.278969928,\n",
       "  'trailingPEG1Y': 3.4055034132},\n",
       " {'date': '2024-10-17T00:00:00.000Z',\n",
       "  'marketCap': 3559807136300.0,\n",
       "  'enterpriseVal': 3599310136300.0,\n",
       "  'peRatio': 34.915131393,\n",
       "  'pbRatio': 53.3640213513,\n",
       "  'trailingPEG1Y': 3.4109397592}]"
      ]
     },
     "execution_count": 5,
     "metadata": {},
     "output_type": "execute_result"
    }
   ],
   "source": [
    "data_1.json()"
   ]
  },
  {
   "cell_type": "code",
   "execution_count": 6,
   "metadata": {},
   "outputs": [],
   "source": [
    "price_list = data_2.json()\n",
    "price_dict = price_list[0]\n",
    "marcap_list = data_1.json()\n",
    "marcap_dict = marcap_list[0]\n",
    "\n",
    "latest_price = price_dict['close']\n",
    "market_cap = marcap_dict['marketCap']"
   ]
  },
  {
   "cell_type": "markdown",
   "metadata": {},
   "source": [
    "## Parsing Our API Call\n",
    "\n",
    "The API call that we executed in the last code block contains all of the information required to build our equal-weight S&P 500 strategy. \n",
    "\n",
    "With that said, the data isn't in a proper format yet. We need to parse it first."
   ]
  },
  {
   "cell_type": "code",
   "execution_count": 7,
   "metadata": {},
   "outputs": [
    {
     "name": "stdout",
     "output_type": "stream",
     "text": [
      "  Ticker  Stock Price  Market Capitalization Number of Shares to Buy\n",
      "0   AAPL       229.04           3.512118e+12                     N/A\n"
     ]
    }
   ],
   "source": [
    "# Define your columns\n",
    "my_columns = [\"Ticker\", \"Stock Price\", \"Market Capitalization\", \"Number of Shares to Buy\"]\n",
    "\n",
    "# Create an empty DataFrame with specified columns\n",
    "final_dataframe = pd.DataFrame(columns=my_columns)\n",
    "\n",
    "other_column = \"N/A\"\n",
    "# Add a new row using .loc[] at the next available index\n",
    "final_dataframe.loc[len(final_dataframe)] = [symbol, latest_price, market_cap, other_column]\n",
    "\n",
    "print(final_dataframe)"
   ]
  },
  {
   "cell_type": "markdown",
   "metadata": {},
   "source": [
    "## Using Batch API Calls to Improve Performance\n",
    "\n",
    "Batch API calls are one of the easiest ways to improve the performance of your code.\n",
    "\n",
    "This is because HTTP requests are typically one of the slowest components of a script.\n",
    "\n",
    "Also, API providers will often give you discounted rates for using batch API calls since they are easier for the API provider to respond to.\n",
    "\n",
    "IEX Cloud limits their batch API calls to 100 tickers per request. Still, this reduces the number of API calls we'll make in this section from 500 to 5 - huge improvement! In this section, we'll split our list of stocks into groups of 100 and then make a batch API call for each group."
   ]
  },
  {
   "cell_type": "code",
   "execution_count": 10,
   "metadata": {},
   "outputs": [
    {
     "data": {
      "text/plain": [
       "{'detail': 'Error: Free and Power plans are limited to the DOW 30. If you would like access to all supported tickers, then please E-mail support@tiingo.com to get the Fundamental Data API added as an add-on service.'}"
      ]
     },
     "execution_count": 10,
     "metadata": {},
     "output_type": "execute_result"
    }
   ],
   "source": [
    "marcap_list = data_1.json()\n",
    "marcap_list"
   ]
  },
  {
   "cell_type": "code",
   "execution_count": 8,
   "metadata": {},
   "outputs": [
    {
     "ename": "KeyError",
     "evalue": "0",
     "output_type": "error",
     "traceback": [
      "\u001b[1;31m---------------------------------------------------------------------------\u001b[0m",
      "\u001b[1;31mKeyError\u001b[0m                                  Traceback (most recent call last)",
      "Cell \u001b[1;32mIn[8], line 13\u001b[0m\n\u001b[0;32m     11\u001b[0m data_1 \u001b[38;5;241m=\u001b[39m requests\u001b[38;5;241m.\u001b[39mget(market_cap_url, headers\u001b[38;5;241m=\u001b[39mheaders)\n\u001b[0;32m     12\u001b[0m marcap_list \u001b[38;5;241m=\u001b[39m data_1\u001b[38;5;241m.\u001b[39mjson()\n\u001b[1;32m---> 13\u001b[0m marcap_dict \u001b[38;5;241m=\u001b[39m \u001b[43mmarcap_list\u001b[49m\u001b[43m[\u001b[49m\u001b[38;5;241;43m0\u001b[39;49m\u001b[43m]\u001b[49m\n\u001b[0;32m     15\u001b[0m latest_price \u001b[38;5;241m=\u001b[39m price_dict[\u001b[38;5;124m'\u001b[39m\u001b[38;5;124mclose\u001b[39m\u001b[38;5;124m'\u001b[39m]\n\u001b[0;32m     16\u001b[0m market_cap \u001b[38;5;241m=\u001b[39m marcap_dict[\u001b[38;5;124m'\u001b[39m\u001b[38;5;124mmarketCap\u001b[39m\u001b[38;5;124m'\u001b[39m]\n",
      "\u001b[1;31mKeyError\u001b[0m: 0"
     ]
    }
   ],
   "source": [
    "final_dataframe = pd.DataFrame(columns=my_columns)\n",
    "\n",
    "select_stocks = stocks.filter(is_dow_30 = 1)\n",
    "\n",
    "for stock in select_stocks[\"Ticker\"][:5]:\n",
    "  price_url = f\"https://api.tiingo.com/tiingo/daily/{stock}/prices?token={TIINGO_API_TOKEN}&startDate=2024-10-10\"\n",
    "  response_1 = requests.get(price_url, headers=headers)\n",
    "  if response_1.status_code == 200:\n",
    "    price_list = data_2.json()\n",
    "    price_dict = price_list[0]\n",
    "  \n",
    "  latest_price = price_dict['close']\n",
    "  \n",
    "  final_dataframe.loc[len(final_dataframe)] = [stock, latest_price, market_cap, other_column]\n",
    "\n",
    "final_dataframe"
   ]
  },
  {
   "cell_type": "code",
   "execution_count": null,
   "metadata": {},
   "outputs": [],
   "source": [
    "final_dataframe = pd.DataFrame(columns=my_columns)\n",
    "\n",
    "select_stocks = stocks.filter(is_dow_30 = 1)\n",
    "\n",
    "for stock in select_stocks[\"Ticker\"][:5]:\n",
    "  market_cap_url = f\"https://api.tiingo.com/tiingo/fundamentals/{stock}/daily?token={TIINGO_API_TOKEN}&startDate=2024-10-10\"\n",
    "  response_2 = requests.get(market_cap_url, headers=headers)\n",
    "  if response_2.status_code == 200:\n",
    "    marcap_list = data_1.json()\n",
    "    marcap_dict = marcap_list[0]\n",
    "\n",
    "  market_cap = marcap_dict['marketCap']\n",
    "  \n",
    "  final_dataframe.loc[len(final_dataframe)] = [stock, latest_price, market_cap, other_column]\n",
    "\n",
    "final_dataframe\n"
   ]
  },
  {
   "cell_type": "markdown",
   "metadata": {},
   "source": [
    "## Looping Through The Tickers in Our List of Stocks\n",
    "\n",
    "Using the same logic that we outlined above, we can pull data for all S&P 500 stocks and store their data in the DataFrame using a `for` loop."
   ]
  },
  {
   "cell_type": "code",
   "execution_count": null,
   "metadata": {},
   "outputs": [],
   "source": []
  },
  {
   "cell_type": "code",
   "execution_count": null,
   "metadata": {},
   "outputs": [],
   "source": []
  },
  {
   "cell_type": "markdown",
   "metadata": {},
   "source": [
    "## Using Batch API Calls to Improve Performance\n",
    "\n",
    "Batch API calls are one of the easiest ways to improve the performance of your code.\n",
    "\n",
    "This is because HTTP requests are typically one of the slowest components of a script.\n",
    "\n",
    "Also, API providers will often give you discounted rates for using batch API calls since they are easier for the API provider to respond to.\n",
    "\n",
    "IEX Cloud limits their batch API calls to 100 tickers per request. Still, this reduces the number of API calls we'll make in this section from 500 to 5 - huge improvement! In this section, we'll split our list of stocks into groups of 100 and then make a batch API call for each group."
   ]
  },
  {
   "cell_type": "code",
   "execution_count": null,
   "metadata": {},
   "outputs": [],
   "source": []
  },
  {
   "cell_type": "code",
   "execution_count": null,
   "metadata": {},
   "outputs": [],
   "source": []
  },
  {
   "cell_type": "markdown",
   "metadata": {},
   "source": [
    "## Calculating the Number of Shares to Buy\n",
    "\n",
    "As you can see in the DataFrame above, we stil haven't calculated the number of shares of each stock to buy.\n",
    "\n",
    "We'll do that next."
   ]
  },
  {
   "cell_type": "code",
   "execution_count": null,
   "metadata": {},
   "outputs": [],
   "source": []
  },
  {
   "cell_type": "code",
   "execution_count": null,
   "metadata": {},
   "outputs": [],
   "source": []
  },
  {
   "cell_type": "markdown",
   "metadata": {},
   "source": [
    "## Formatting Our Excel Output\n",
    "\n",
    "We will be using the XlsxWriter library for Python to create nicely-formatted Excel files.\n",
    "\n",
    "XlsxWriter is an excellent package and offers tons of customization. However, the tradeoff for this is that the library can seem very complicated to new users. Accordingly, this section will be fairly long because I want to do a good job of explaining how XlsxWriter works.\n",
    "\n",
    "### Initializing our XlsxWriter Object"
   ]
  },
  {
   "cell_type": "code",
   "execution_count": null,
   "metadata": {},
   "outputs": [],
   "source": []
  },
  {
   "cell_type": "markdown",
   "metadata": {},
   "source": [
    "### Creating the Formats We'll Need For Our `.xlsx` File\n",
    "\n",
    "Formats include colors, fonts, and also symbols like `%` and `$`. We'll need four main formats for our Excel document:\n",
    "* String format for tickers\n",
    "* \\\\$XX.XX format for stock prices\n",
    "* \\\\$XX,XXX format for market capitalization\n",
    "* Integer format for the number of shares to purchase"
   ]
  },
  {
   "cell_type": "code",
   "execution_count": null,
   "metadata": {},
   "outputs": [],
   "source": []
  },
  {
   "cell_type": "markdown",
   "metadata": {},
   "source": [
    "### Applying the Formats to the Columns of Our `.xlsx` File\n",
    "\n",
    "We can use the `set_column` method applied to the `writer.sheets['Recommended Trades']` object to apply formats to specific columns of our spreadsheets.\n",
    "\n",
    "Here's an example:\n",
    "\n",
    "```python\n",
    "writer.sheets['Recommended Trades'].set_column('B:B', #This tells the method to apply the format to column B\n",
    "                     18, #This tells the method to apply a column width of 18 pixels\n",
    "                     string_template #This applies the format 'string_template' to the column\n",
    "                    )\n",
    "```"
   ]
  },
  {
   "cell_type": "code",
   "execution_count": null,
   "metadata": {},
   "outputs": [],
   "source": []
  },
  {
   "cell_type": "markdown",
   "metadata": {},
   "source": [
    "This code works, but it violates the software principle of \"Don't Repeat Yourself\". \n",
    "\n",
    "Let's simplify this by putting it in 2 loops:"
   ]
  },
  {
   "cell_type": "code",
   "execution_count": null,
   "metadata": {},
   "outputs": [],
   "source": []
  },
  {
   "cell_type": "markdown",
   "metadata": {},
   "source": [
    "## Saving Our Excel Output\n",
    "\n",
    "Saving our Excel file is very easy:"
   ]
  },
  {
   "cell_type": "code",
   "execution_count": null,
   "metadata": {},
   "outputs": [],
   "source": []
  }
 ],
 "metadata": {
  "kernelspec": {
   "display_name": "Python 3",
   "language": "python",
   "name": "python3"
  },
  "language_info": {
   "codemirror_mode": {
    "name": "ipython",
    "version": 3
   },
   "file_extension": ".py",
   "mimetype": "text/x-python",
   "name": "python",
   "nbconvert_exporter": "python",
   "pygments_lexer": "ipython3",
   "version": "3.11.0"
  }
 },
 "nbformat": 4,
 "nbformat_minor": 4
}
